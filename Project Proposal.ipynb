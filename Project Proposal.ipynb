{
 "cells": [
  {
   "cell_type": "markdown",
   "metadata": {},
   "source": [
    "# Scientific Computing Course\n",
    "## Final Project - Proposal\n",
    "by Millis Sahar, ID300420379"
   ]
  },
  {
   "attachments": {},
   "cell_type": "markdown",
   "metadata": {},
   "source": [
    "#### Step 1\n",
    "Train a NN to fit a Gaussian/Normal distribution using GAN architecture (discriminator & generator).\n",
    "\n",
    "<div>\n",
    "<img src=\"dist.gif\" width=\"400\"/>\n",
    "</div>"
   ]
  },
  {
   "attachments": {},
   "cell_type": "markdown",
   "metadata": {},
   "source": [
    "##### Step 2\n",
    "Train a NN to fit the MNIST dataset using GAN architecture.\n",
    "\n",
    "\n",
    "<div>\n",
    "<img src=\"mnist.gif\" width=\"500\"/>\n",
    "</div>\n"
   ]
  },
  {
   "attachments": {},
   "cell_type": "markdown",
   "metadata": {},
   "source": [
    "##### Step 3\n",
    "Train a NN to fit the Predator-Prey cycle using GAN architecture.\n",
    "\n",
    "<div>\n",
    "<img src=\"prey.gif\" width=\"500\"/>\n",
    "</div>"
   ]
  },
  {
   "cell_type": "markdown",
   "metadata": {},
   "source": [
    "##### Step 4\n",
    "Compare estimations with other methods learned in class.\n",
    "\n",
    "<div>\n",
    "<img src='comp.png' width='500'/>\n",
    "    \n",
    "</div>"
   ]
  },
  {
   "attachments": {},
   "cell_type": "markdown",
   "metadata": {},
   "source": [
    "#### Step 5\n",
    "Create a NN to convert image to another image while mentaining specific feathures, CycleGAN architecture.\n",
    "\n",
    "\n",
    "\n",
    "<div>\n",
    "<img src=\"zebra.gif\" width=\"500\"/>\n",
    "    \n",
    "<img src='fort.gif' width='500'>\n",
    "</div>"
   ]
  },
  {
   "cell_type": "markdown",
   "metadata": {},
   "source": [
    "**Reference:**  \n",
    "<a href='https://github.com/eriklindernoren/Keras-GAN'>Keras-GAN</a>  \n",
    "<a href='https://arxiv.org/abs/2004.05803'>Adversarial Likelihood-Free Inference on Black-Box Generator</a>  \n",
    "<a href='https://junyanz.github.io/CycleGAN/'>Unpaired Image-to-Image Translation using Cycle-Consistent Adversarial Networks</a>\n"
   ]
  }
 ],
 "metadata": {
  "kernelspec": {
   "display_name": "Python 3",
   "language": "python",
   "name": "python3"
  },
  "language_info": {
   "codemirror_mode": {
    "name": "ipython",
    "version": 3
   },
   "file_extension": ".py",
   "mimetype": "text/x-python",
   "name": "python",
   "nbconvert_exporter": "python",
   "pygments_lexer": "ipython3",
   "version": "3.7.7"
  }
 },
 "nbformat": 4,
 "nbformat_minor": 4
}
