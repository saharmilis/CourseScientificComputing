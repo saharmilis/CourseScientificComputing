{
 "cells": [
  {
   "cell_type": "markdown",
   "metadata": {},
   "source": [
    "# Assignment 0: Python, NumPy, Matplotlib\n",
    "## [Scientific Computing with Python](https://scicompy.yoavram.com/)\n",
    "## Sahar Millis"
   ]
  },
  {
   "cell_type": "markdown",
   "metadata": {},
   "source": [
    "# General instructions\n",
    "\n",
    "1. Questions regarding the exercises should be posted to the course forum at the designated group (i.e. \"assignment 0\"). You can post questions anonymously. You can also visit the Office Hours, but please do not email the course staff with questions about the exercise.\n",
    "1. This is assignment should **not** be submitted and will **not** be graded.\n",
    "1. Lines that end with `###`, as well as cells that start with `###`, are unitests for your solutions, don't change them."
   ]
  },
  {
   "cell_type": "code",
   "execution_count": 78,
   "metadata": {},
   "outputs": [],
   "source": [
    "%matplotlib inline\n",
    "import matplotlib.pyplot as plt\n",
    "import numpy as np\n",
    "\n",
    "from datetime import date\n",
    "import string\n",
    "import pickle"
   ]
  },
  {
   "cell_type": "markdown",
   "metadata": {},
   "source": [
    "# Exercise 1"
   ]
  },
  {
   "cell_type": "markdown",
   "metadata": {},
   "source": [
    "The following cell loads a dictionary called **presidents_by_party** (taken from https://github.com/inglesp/python-data-structure-exercises)\n",
    "\n",
    "The keys of the dictionaries are US political party names, and the values are lists of presidents from each party.\n",
    "Each president is represented by a dictionary in which the keys are properties, e.g. `name` and `born`, and the values are the property values, e.g. `George Washington` and `date(1732, 2, 22)`. Dates are given using the Python `datetime.date` type."
   ]
  },
  {
   "cell_type": "code",
   "execution_count": 82,
   "metadata": {},
   "outputs": [
    {
     "data": {
      "text/plain": [
       "[{'name': 'George Washington',\n",
       "  'born': datetime.date(1732, 2, 22),\n",
       "  'took_office': datetime.date(1789, 4, 30),\n",
       "  'left_office': datetime.date(1797, 3, 4)}]"
      ]
     },
     "execution_count": 82,
     "metadata": {},
     "output_type": "execute_result"
    }
   ],
   "source": [
    "with open('../data/presidents.obj', 'rb') as f:\n",
    "    presidents_by_party = pickle.load(f)\n",
    "presidents_by_party['Independent']"
   ]
  },
  {
   "cell_type": "markdown",
   "metadata": {},
   "source": [
    "**Add Donald Trump to the correct party**."
   ]
  },
  {
   "cell_type": "code",
   "execution_count": 83,
   "metadata": {},
   "outputs": [
    {
     "data": {
      "text/plain": [
       "19"
      ]
     },
     "execution_count": 83,
     "metadata": {},
     "output_type": "execute_result"
    }
   ],
   "source": [
    "# your code here #\n",
    "\n",
    "dt = {}\n",
    "dt['name'] = 'Donald John Trump'\n",
    "dt['born'] = date(1946,6,14)\n",
    "dt['took_office'] = date(2017,1,20)\n",
    "dt['left_office'] = None\n",
    "\n",
    "presidents_by_party['Republican'].append(dt)\n",
    "len(presidents_by_party['Republican'])\n",
    "\n"
   ]
  },
  {
   "cell_type": "code",
   "execution_count": 17,
   "metadata": {},
   "outputs": [
    {
     "data": {
      "text/plain": [
       "19"
      ]
     },
     "execution_count": 17,
     "metadata": {},
     "output_type": "execute_result"
    }
   ],
   "source": [
    "len(presidents_by_party['Republican']) ###"
   ]
  },
  {
   "cell_type": "markdown",
   "metadata": {},
   "source": [
    "**Create dictionary called `parties`** with `party_name` as a key and a tuple `(number_of_presidents, last_president_name)` as a value.\n",
    "\n",
    "Bonus: use a [dictionary comprehension](https://dbader.org/blog/list-dict-set-comprehensions-in-python)."
   ]
  },
  {
   "cell_type": "code",
   "execution_count": 84,
   "metadata": {},
   "outputs": [
    {
     "data": {
      "text/plain": [
       "(16, 'Barack Obama')"
      ]
     },
     "execution_count": 84,
     "metadata": {},
     "output_type": "execute_result"
    }
   ],
   "source": [
    "# your code here #\n",
    "\n",
    "parties = {k : (len(presidents_by_party[k]),presidents_by_party[k][-1]['name']) for k in presidents_by_party.keys()}\n",
    "parties['Democratic']"
   ]
  },
  {
   "cell_type": "code",
   "execution_count": 26,
   "metadata": {},
   "outputs": [
    {
     "data": {
      "text/plain": [
       "(16, 'Barack Obama')"
      ]
     },
     "execution_count": 26,
     "metadata": {},
     "output_type": "execute_result"
    }
   ],
   "source": [
    "parties['Democratic'] ###"
   ]
  },
  {
   "cell_type": "markdown",
   "metadata": {},
   "source": [
    "**Create a list called `presidents`** that contains all the president dictionaries."
   ]
  },
  {
   "cell_type": "code",
   "execution_count": 85,
   "metadata": {},
   "outputs": [
    {
     "data": {
      "text/plain": [
       "45"
      ]
     },
     "execution_count": 85,
     "metadata": {},
     "output_type": "execute_result"
    }
   ],
   "source": [
    "# your code here #\n",
    "\n",
    "# Option1:\n",
    "presidents = []\n",
    "for v in presidents_by_party.values():\n",
    "    presidents.extend(v)\n",
    "len(presidents)\n",
    "\n",
    "# Option2:\n",
    "presidents = []\n",
    "[presidents.extend(v) for v in presidents_by_party.values()]\n",
    "len(presidents)"
   ]
  },
  {
   "cell_type": "code",
   "execution_count": 75,
   "metadata": {},
   "outputs": [
    {
     "data": {
      "text/plain": [
       "45"
      ]
     },
     "execution_count": 75,
     "metadata": {},
     "output_type": "execute_result"
    }
   ],
   "source": [
    "len(presidents)"
   ]
  },
  {
   "cell_type": "markdown",
   "metadata": {},
   "source": [
    "**Sort the presidents list** by ascending date of taking office."
   ]
  },
  {
   "cell_type": "code",
   "execution_count": 86,
   "metadata": {},
   "outputs": [
    {
     "data": {
      "text/plain": [
       "{'name': 'Donald John Trump',\n",
       " 'born': datetime.date(1946, 6, 14),\n",
       " 'took_office': datetime.date(2017, 1, 20),\n",
       " 'left_office': None}"
      ]
     },
     "execution_count": 86,
     "metadata": {},
     "output_type": "execute_result"
    }
   ],
   "source": [
    "# your code here #\n",
    "\n",
    "presidents.sort(key= lambda p: p['took_office'])\n",
    "presidents[-1]"
   ]
  },
  {
   "cell_type": "code",
   "execution_count": 42,
   "metadata": {},
   "outputs": [
    {
     "data": {
      "text/plain": [
       "{'name': 'Donald Trump',\n",
       " 'born': datetime.date(1946, 6, 14),\n",
       " 'took_office': datetime.date(2017, 1, 20)}"
      ]
     },
     "execution_count": 42,
     "metadata": {},
     "output_type": "execute_result"
    }
   ],
   "source": [
    "presidents[-1]"
   ]
  },
  {
   "cell_type": "markdown",
   "metadata": {},
   "source": [
    "**Print all the presidents that took office on Jan 20**."
   ]
  },
  {
   "cell_type": "code",
   "execution_count": 104,
   "metadata": {},
   "outputs": [
    {
     "name": "stdout",
     "output_type": "stream",
     "text": [
      "Dwight D. Eisenhower 20/01/53\n",
      "John F. Kennedy 20/01/61\n",
      "Richard Nixon 20/01/69\n",
      "Jimmy Carter 20/01/77\n",
      "Ronald Reagan 20/01/81\n",
      "George H. W. Bush 20/01/89\n",
      "Bill Clinton 20/01/93\n",
      "George W. Bush 20/01/01\n",
      "Barack Obama 20/01/09\n",
      "Donald John Trump 20/01/17\n"
     ]
    }
   ],
   "source": [
    "# your code here #\n",
    "[print(v['name'],v['took_office'].strftime('%d/%m/%y')) for v in presidents if v['took_office'].day==20 and v['took_office'].month==1 ]\n",
    "pass"
   ]
  },
  {
   "cell_type": "code",
   "execution_count": 46,
   "metadata": {},
   "outputs": [
    {
     "name": "stdout",
     "output_type": "stream",
     "text": [
      "Dwight D. Eisenhower 01/20/53\n",
      "John F. Kennedy 01/20/61\n",
      "Richard Nixon 01/20/69\n",
      "Jimmy Carter 01/20/77\n",
      "Ronald Reagan 01/20/81\n",
      "George H. W. Bush 01/20/89\n",
      "Bill Clinton 01/20/93\n",
      "George W. Bush 01/20/01\n",
      "Barack Obama 01/20/09\n",
      "Donald Trump 01/20/17\n"
     ]
    }
   ],
   "source": []
  },
  {
   "cell_type": "markdown",
   "metadata": {},
   "source": [
    "<br><br><br>\n",
    "<br><br><br>\n",
    "<br><br><br>"
   ]
  },
  {
   "cell_type": "markdown",
   "metadata": {},
   "source": [
    "# Exercise 2\n",
    "\n",
    "The following cell defines frequencies arrays for the characters of English, Deutch, and French texts.\n",
    "\n",
    "For example, `en[0]` gives the frequency of `a` in English texts, whereas `de[10]` gives the frequency of `k`. \n",
    "\n",
    "We only consider lowercase letters a-z."
   ]
  },
  {
   "cell_type": "code",
   "execution_count": 105,
   "metadata": {},
   "outputs": [],
   "source": [
    "en = np.array([0.08167, 0.01492, 0.02782, 0.04253, 0.12702, 0.02228, 0.02015,\n",
    "            0.06094, 0.06966, 0.00153, 0.00772, 0.04025, 0.02406, 0.06749,\n",
    "            0.07507, 0.01929, 0.00095, 0.05987, 0.06327, 0.09056, 0.02758,\n",
    "            0.00978, 0.0236 , 0.0015 , 0.01974, 0.00074])\n",
    "de = np.array([0.06516, 0.01886, 0.02732, 0.05076, 0.16396, 0.01656, 0.03009,\n",
    "            0.04577, 0.0655 , 0.00268, 0.01417, 0.03437, 0.02534, 0.09776,\n",
    "            0.02594, 0.0067 , 0.00018, 0.07003, 0.0727 , 0.06154, 0.04166,\n",
    "            0.00846, 0.01921, 0.00034, 0.00039, 0.01134])\n",
    "fr = np.array([0.07636, 0.00901, 0.0326 , 0.03669, 0.14715, 0.01066, 0.00866,\n",
    "            0.00737, 0.07529, 0.00613, 0.00074, 0.05456, 0.02968, 0.07095,\n",
    "            0.05796, 0.02521, 0.01362, 0.06693, 0.07948, 0.07244, 0.06311,\n",
    "            0.01838, 0.00049, 0.00427, 0.00128, 0.00326])"
   ]
  },
  {
   "cell_type": "markdown",
   "metadata": {},
   "source": [
    "We want to use these frequency arrays to determine the language of a text of our choice.\n",
    "\n",
    "First, **write a function called `frequencies(text)`** that takes a string and returns the frequency of each letter in the text in a NumPy array, similar to those above. Disregard casing (`A` is the same as `a`) and punctuation.\n",
    "\n",
    "Apply the function on `../data/Gulliver.txt`, an English book by Jonathan Swift.\n",
    "\n",
    "**Tip**: use the function `ord`."
   ]
  },
  {
   "cell_type": "code",
   "execution_count": 178,
   "metadata": {},
   "outputs": [
    {
     "name": "stdout",
     "output_type": "stream",
     "text": [
      "[0.07731152 0.01604013 0.02737605 0.0436618  0.12616461 0.02458682\n",
      " 0.01957454 0.0590067  0.06972233 0.00178594 0.00638608 0.03789601\n",
      " 0.02903709 0.06680405 0.07671621 0.01952875 0.00111153 0.06147538\n",
      " 0.06039715 0.0929187  0.02851255 0.01014113 0.02228883 0.00185255\n",
      " 0.01932059 0.000383  ]\n"
     ]
    }
   ],
   "source": [
    "# your code here #\n",
    "\n",
    "def frequencies(text):\n",
    "    import string\n",
    "    from collections import Counter \n",
    "    \n",
    "    #remove punctuation\n",
    "    table = str.maketrans(dict.fromkeys(string.punctuation))\n",
    "    text = text.translate(table)\n",
    "    \n",
    "    #lower case\n",
    "    lower_text = text.lower()\n",
    "    \n",
    "    # count letter in text\n",
    "    count = Counter(lower_text)\n",
    "    \n",
    "    # get count by all 26 letter by alphabetical order\n",
    "    counts = list({k: count.get(k, 0) for k in string.ascii_lowercase}.values())\n",
    "    \n",
    "    # return freq as np.array\n",
    "    counts = np.array(counts)\n",
    "    \n",
    "    return counts/counts.sum()\n",
    "\n",
    "\n",
    "# open file\n",
    "with open('../data/Gulliver.txt') as f:\n",
    "    gulliver = f.read()\n",
    "\n",
    "# get freq\n",
    "gulliver_freq = frequencies(gulliver)\n",
    "print(gulliver_freq)"
   ]
  },
  {
   "cell_type": "code",
   "execution_count": 188,
   "metadata": {},
   "outputs": [
    {
     "name": "stdout",
     "output_type": "stream",
     "text": [
      "[0.07731152 0.01604013 0.02737605 0.0436618  0.12616461 0.02458682\n",
      " 0.01957454 0.0590067  0.06972233 0.00178594 0.00638608 0.03789601\n",
      " 0.02903709 0.06680405 0.07671621 0.01952875 0.00111153 0.06147538\n",
      " 0.06039715 0.0929187  0.02851255 0.01014113 0.02228883 0.00185255\n",
      " 0.01932059 0.000383  ]\n"
     ]
    }
   ],
   "source": [
    "###\n",
    "with open('../data/Gulliver.txt') as f:\n",
    "    gulliver = f.read()\n",
    "\n",
    "gulliver_freq = frequencies(gulliver)\n",
    "print(gulliver_freq)"
   ]
  },
  {
   "cell_type": "markdown",
   "metadata": {},
   "source": [
    "**Implement a function called `relative_entropy(p, q)`** to compute the relative entropy of a text frequencies array `q` and a language frequencies array `p` according to the following formula:\n",
    "$$\n",
    "re(p, q) = \\sum_{i=1}^{n}{p_i \\log{\\Big(\\frac{p_i}{q_i}\\Big)}}\n",
    "$$\n",
    "where $i=1$ for `a` and $i=n$ for `z`.\n",
    "\n",
    "Relative entropy is a measure of similarity between two distributions or frequencies: the lower the relative entropy of `p` and `q`, the more similar `p` and `q`.\n",
    "\n",
    "Reminder: frequency array values are between 0 and 1 and sum to 1."
   ]
  },
  {
   "cell_type": "code",
   "execution_count": 306,
   "metadata": {},
   "outputs": [
    {
     "name": "stdout",
     "output_type": "stream",
     "text": [
      "en 0.0013824140607542703\n",
      "fr 0.12113178055931938\n",
      "de 0.08528949658982557\n"
     ]
    }
   ],
   "source": [
    "def relative_entropy(p,q):\n",
    "    # convert to np.array\n",
    "    p = np.array(p)\n",
    "    q = np.array(q)\n",
    "    \n",
    "    # remove zeros\n",
    "    p = p[q!=0]\n",
    "    q = q[q!=0]\n",
    "    \n",
    "    # make sure to sum to one\n",
    "    # p = p/p.sum(axis=0,keepdims=1) \n",
    "    # Note: fr & de not sum to 1\n",
    "    q = q/q.sum(axis=0,keepdims=1)\n",
    "    \n",
    "    return np.sum( p*np.log(p/q) )\n",
    "\n",
    "print('en', relative_entropy(en, gulliver_freq))\n",
    "print('fr', relative_entropy(fr, gulliver_freq))\n",
    "print('de', relative_entropy(de, gulliver_freq))"
   ]
  },
  {
   "cell_type": "code",
   "execution_count": 305,
   "metadata": {},
   "outputs": [
    {
     "name": "stdout",
     "output_type": "stream",
     "text": [
      "en 0.0013824140607542703\n",
      "fr 0.12113178055931938\n",
      "de 0.08528949658982557\n"
     ]
    }
   ],
   "source": [
    "###\n",
    "print('en', relative_entropy(en, gulliver_freq))\n",
    "print('fr', relative_entropy(fr, gulliver_freq))\n",
    "print('de', relative_entropy(de, gulliver_freq))"
   ]
  },
  {
   "cell_type": "markdown",
   "metadata": {},
   "source": [
    "Finally, **write a function called `detect_language(text)`** that takes a text and returns the name of the language most likely for that text, e.g. `en`, `fr`, or `de`."
   ]
  },
  {
   "cell_type": "code",
   "execution_count": 307,
   "metadata": {},
   "outputs": [
    {
     "name": "stdout",
     "output_type": "stream",
     "text": [
      "en\n"
     ]
    }
   ],
   "source": [
    "# your code here #\n",
    "def detect_language(text):\n",
    "    freq = frequencies(text)\n",
    "    return sorted([('en', relative_entropy(en, freq)),('fr', relative_entropy(fr, freq)),('de', relative_entropy(de, freq))],key=lambda l:l[1])[0][0]\n",
    "\n",
    "print(detect_language(gulliver))"
   ]
  },
  {
   "cell_type": "code",
   "execution_count": 33,
   "metadata": {},
   "outputs": [
    {
     "name": "stdout",
     "output_type": "stream",
     "text": [
      "en\n"
     ]
    }
   ],
   "source": [
    "print(detect_language(gulliver)) ###"
   ]
  },
  {
   "cell_type": "code",
   "execution_count": 308,
   "metadata": {},
   "outputs": [
    {
     "data": {
      "text/plain": [
       "'fr'"
      ]
     },
     "execution_count": 308,
     "metadata": {},
     "output_type": "execute_result"
    }
   ],
   "source": [
    "ne_me_quitte_pas = \"\"\"Ne me quitte pas\n",
    "Il faut oublier\n",
    "Tout peut s'oublier\n",
    "Qui s'enfuit déjà\n",
    "Oublier le temps\n",
    "Des malentendus\n",
    "Et le temps perdu\n",
    "A savoir comment\n",
    "Oublier ces heures\n",
    "Qui tuaient parfois\n",
    "A coups de pourquoi\n",
    "Le coeur du bonheurNe me quitte pas\n",
    "Ne me quitte pas\n",
    "Ne me quitte pas\n",
    "Ne me quitte pas\"\"\"\n",
    "\n",
    "detect_language(ne_me_quitte_pas)"
   ]
  },
  {
   "cell_type": "code",
   "execution_count": 35,
   "metadata": {},
   "outputs": [
    {
     "name": "stdout",
     "output_type": "stream",
     "text": [
      "fr\n"
     ]
    }
   ],
   "source": [
    "###\n",
    "ne_me_quitte_pas = \"\"\"Ne me quitte pas\n",
    "Il faut oublier\n",
    "Tout peut s'oublier\n",
    "Qui s'enfuit déjà\n",
    "Oublier le temps\n",
    "Des malentendus\n",
    "Et le temps perdu\n",
    "A savoir comment\n",
    "Oublier ces heures\n",
    "Qui tuaient parfois\n",
    "A coups de pourquoi\n",
    "Le coeur du bonheurNe me quitte pas\n",
    "Ne me quitte pas\n",
    "Ne me quitte pas\n",
    "Ne me quitte pas\"\"\"\n",
    "\n",
    "print(detect_language(ne_me_quitte_pas))"
   ]
  },
  {
   "cell_type": "markdown",
   "metadata": {},
   "source": [
    "<br><br><br>\n",
    "<br><br><br>\n",
    "<br><br><br>\n"
   ]
  },
  {
   "cell_type": "markdown",
   "metadata": {},
   "source": [
    "# Exercise 3"
   ]
  },
  {
   "cell_type": "markdown",
   "metadata": {},
   "source": [
    "The file `../data/stocks.csv` contains a table with 1967 rows and 4 columns that represent the quotes (stock prices) for four corporations -- Amazon, Apple, Facebook, and Microsoft -- over 1,967 days starting from 2012-05-18 and ending at 2020-03-13.\n",
    "\n",
    "**Load the data using NumPy**."
   ]
  },
  {
   "cell_type": "code",
   "execution_count": 327,
   "metadata": {},
   "outputs": [
    {
     "data": {
      "text/plain": [
       "array([[ 213.85  ,   75.7685,   38.2318,   29.27  ],\n",
       "       [ 218.11  ,   80.1828,   34.03  ,   29.75  ],\n",
       "       [ 215.33  ,   79.5671,   31.    ,   29.76  ],\n",
       "       ...,\n",
       "       [1820.86  ,  275.43  ,  170.24  ,  153.63  ],\n",
       "       [1676.61  ,  248.23  ,  154.47  ,  139.06  ],\n",
       "       [1785.    ,  277.97  ,  170.28  ,  158.83  ]])"
      ]
     },
     "execution_count": 327,
     "metadata": {},
     "output_type": "execute_result"
    }
   ],
   "source": [
    "# your code here #\n",
    "import numpy as np\n",
    "\n",
    "data_path = '../data/stocks.csv'\n",
    "data = np.loadtxt(data_path, delimiter=',')\n",
    "data\n"
   ]
  },
  {
   "cell_type": "code",
   "execution_count": 104,
   "metadata": {},
   "outputs": [
    {
     "data": {
      "text/plain": [
       "array([[ 213.85  ,   75.7685,   38.2318,   29.27  ],\n",
       "       [ 218.11  ,   80.1828,   34.03  ,   29.75  ],\n",
       "       [ 215.33  ,   79.5671,   31.    ,   29.76  ],\n",
       "       ...,\n",
       "       [1820.86  ,  275.43  ,  170.24  ,  153.63  ],\n",
       "       [1676.61  ,  248.23  ,  154.47  ,  139.06  ],\n",
       "       [1785.    ,  277.97  ,  170.28  ,  158.83  ]])"
      ]
     },
     "execution_count": 104,
     "metadata": {},
     "output_type": "execute_result"
    }
   ],
   "source": [
    "data ###"
   ]
  },
  {
   "cell_type": "markdown",
   "metadata": {},
   "source": [
    "**Re-create the plot** with all four companies on the same axis."
   ]
  },
  {
   "cell_type": "code",
   "execution_count": 381,
   "metadata": {},
   "outputs": [
    {
     "data": {
      "image/png": "[encoded data removed]",
      "text/plain": [
       "<Figure size 288x144 with 1 Axes>"
      ]
     },
     "metadata": {
      "needs_background": "light"
     },
     "output_type": "display_data"
    }
   ],
   "source": [
    "company = ['amazon','apple','facebook','microsoft']\n",
    "\n",
    "plt.figure(figsize=(4,2))\n",
    "plt.plot(data)\n",
    "plt.legend(labels=company)\n",
    "plt.xlabel('Time')\n",
    "plt.ylabel('Quote')\n",
    "plt.show()"
   ]
  },
  {
   "cell_type": "code",
   "execution_count": 109,
   "metadata": {},
   "outputs": [
    {
     "data": {
      "image/png": "[encoded data removed]",
      "text/plain": [
       "<Figure size 288x144 with 1 Axes>"
      ]
     },
     "metadata": {
      "image/png": {
       "height": 153,
       "width": 289
      },
      "needs_background": "light"
     },
     "output_type": "display_data"
    }
   ],
   "source": [
    "# your code here #"
   ]
  },
  {
   "cell_type": "markdown",
   "metadata": {},
   "source": [
    "**Re-create the plot** with each company on a different axis."
   ]
  },
  {
   "cell_type": "code",
   "execution_count": 389,
   "metadata": {},
   "outputs": [
    {
     "data": {
      "image/png": "[encoded data removed]",
      "text/plain": [
       "<Figure size 432x288 with 1 Axes>"
      ]
     },
     "metadata": {
      "needs_background": "light"
     },
     "output_type": "display_data"
    },
    {
     "name": "stdout",
     "output_type": "stream",
     "text": [
      "\n",
      "\n",
      "\n",
      "\n",
      "\n",
      "\n"
     ]
    },
    {
     "data": {
      "image/png": "[encoded data removed]",
      "text/plain": [
       "<Figure size 432x288 with 1 Axes>"
      ]
     },
     "metadata": {
      "needs_background": "light"
     },
     "output_type": "display_data"
    },
    {
     "name": "stdout",
     "output_type": "stream",
     "text": [
      "\n",
      "\n",
      "\n",
      "\n",
      "\n",
      "\n"
     ]
    },
    {
     "data": {
      "image/png": "[encoded data removed]",
      "text/plain": [
       "<Figure size 432x288 with 1 Axes>"
      ]
     },
     "metadata": {
      "needs_background": "light"
     },
     "output_type": "display_data"
    },
    {
     "name": "stdout",
     "output_type": "stream",
     "text": [
      "\n",
      "\n",
      "\n",
      "\n",
      "\n",
      "\n"
     ]
    },
    {
     "data": {
      "image/png": "[encoded data removed]",
      "text/plain": [
       "<Figure size 432x288 with 1 Axes>"
      ]
     },
     "metadata": {
      "needs_background": "light"
     },
     "output_type": "display_data"
    },
    {
     "name": "stdout",
     "output_type": "stream",
     "text": [
      "\n",
      "\n",
      "\n",
      "\n",
      "\n",
      "\n"
     ]
    }
   ],
   "source": [
    "# your code here #\n",
    "for i in range(4):\n",
    "    plt.plot(data[:,i],'k')\n",
    "    plt.title(company[i],fontsize=14)\n",
    "    plt.axis('off')\n",
    "    plt.show()\n",
    "    print('\\n\\n\\n\\n\\n')"
   ]
  },
  {
   "cell_type": "markdown",
   "metadata": {},
   "source": [
    "**End of assignment**"
   ]
  }
 ],
 "metadata": {
  "kernelspec": {
   "display_name": "Python 3",
   "language": "python",
   "name": "python3"
  },
  "language_info": {
   "codemirror_mode": {
    "name": "ipython",
    "version": 3
   },
   "file_extension": ".py",
   "mimetype": "text/x-python",
   "name": "python",
   "nbconvert_exporter": "python",
   "pygments_lexer": "ipython3",
   "version": "3.7.7"
  }
 },
 "nbformat": 4,
 "nbformat_minor": 4
}
