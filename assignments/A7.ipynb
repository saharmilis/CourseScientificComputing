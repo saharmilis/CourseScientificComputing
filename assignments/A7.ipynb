{
 "cells": [
  {
   "cell_type": "markdown",
   "metadata": {
    "colab_type": "text",
    "id": "hw0GTHlxDPUJ"
   },
   "source": [
    "# Assignment 7: Neural networks\n",
    "\n",
    "## [Scientific Computing with Python](http://scicompy.yoavram.com)\n",
    "## Yoav Ram\n",
    "\n",
    "# General instructions\n",
    "\n",
    "1. Do not remove any text or code cells; do not leave redundent print messages.\n",
    "1. When instructed to implement a function, use the given function names and parameters lists; failure to do so may cause test functions to fail during grading.\n",
    "1. When instructed to generate a plot, make sure that the plot is clear, that axes are propely labeled, and that the notebook is saved with the plot inline, so that the grader can see the plot without running the code. Make sure that you re-generate the plot if you changed the code!\n",
    "1. Code lines with a triple comment `###` should not be removed or modified, they are used for automatic grading.\n",
    "1. Note that there are 3 exercises and the last cell in the notebook says **end of assignment**; if you are missing anything please download the origianl file from the course website.\n",
    "1. Your code should run within a reasonable time (a few minutes) and you should use idioms learned in class, e.g. array opreations, numba, multiprocessig.\n",
    "1. Questions regarding the exercises should be posted to the course forum at the designated group (i.e. \"assignment7\"). You can post questions anonymously. You can also visit the Office Hours, but please do not email the course staff with questions about the exercise.\n",
    "1. Intructions for submitting the exercise are on the [course website](https://scicompy.yoavram.com/assignments).\n",
    "\n",
    "# Cloud computing with GPU\n",
    "\n",
    "**In Ex 2 and Ex 3 there is a benefit in running on a computer with a GPU. There are two ways to do that:**\n",
    "1. Use [**Google Colaboratory**](http://colab.research.google.com) (free.) Colaboratory provides free GPU usage for 12 hours inside a Jupyter notebook. Once you are inside colaboratory, upload this notebook, and change the runtime to Python 3 + GPU. Don't forget to download your notebook when you finish (from the File menu), although it will be saved in your Google Docs.\n",
    "\n",
    "1. Use **AWS Educate**. You can sign up for an AWS Educate account without a credict card, and get some free credits to use for AWS services. You can get an additional \\$50 for this course - just ask for it on Piazza and allow for 24 hrs.\n",
    "[Instructions are provided](https://aws.amazon.com/blogs/machine-learning/get-started-with-deep-learning-using-the-aws-deep-learning-ami/) for setting up a deep learning environment with conda, jupyter, and keras. Note that when you go over the credit limit (\\$50) your account will be suspended and you will not have access to your work, so plan accordingly. Some GPU-enabled instances estimated  costs are: p2.xlarge (Tesla K80) 22 USD/day; p3.2xlarge (2 x Tesla v100) 75 USD/day; p3.16xlarge (8 x Tesla v100) 600 USD/day. At this stage you should probably take the cheapest one.\n",
    "\n",
    "It may be worth the effort: epochs on the dataset used in Ex 2 and Ex 3 take about 15 secs on colaboratory, compared to 40 secs on my laptop. \n",
    "But it is not mandatory to work with a GPU, you can use your local CPU."
   ]
  },
  {
   "cell_type": "code",
   "execution_count": 1,
   "metadata": {
    "colab": {
     "base_uri": "https://localhost:8080/",
     "height": 70
    },
    "colab_type": "code",
    "executionInfo": {
     "elapsed": 2966,
     "status": "ok",
     "timestamp": 1593602998456,
     "user": {
      "displayName": "Sahar Milis",
      "photoUrl": "",
      "userId": "11889752874894564276"
     },
     "user_tz": -180
    },
    "id": "h7Xxu623DPUL",
    "outputId": "02022c1d-fc6d-4bfb-b4ff-530142c28818"
   },
   "outputs": [],
   "source": [
    "###\n",
    "%matplotlib inline\n",
    "\n",
    "import numpy as np\n",
    "import scipy.stats\n",
    "\n",
    "from tensorflow import keras\n",
    "\n",
    "import seaborn as sns\n",
    "sns.set_context('notebook')\n",
    "\n",
    "import matplotlib.pyplot as plt\n"
   ]
  },
  {
   "cell_type": "code",
   "execution_count": 2,
   "metadata": {
    "colab": {},
    "colab_type": "code",
    "executionInfo": {
     "elapsed": 2953,
     "status": "ok",
     "timestamp": 1593602998456,
     "user": {
      "displayName": "Sahar Milis",
      "photoUrl": "",
      "userId": "11889752874894564276"
     },
     "user_tz": -180
    },
    "id": "5LEPaepiDPUS"
   },
   "outputs": [],
   "source": [
    "###\n",
    "# this code is required for Ex 1\n",
    "def display_image(im):\n",
    "    plt.imshow(im.reshape((28, 28)), cmap='gray_r')\n",
    "    plt.xticks([])\n",
    "    plt.yticks([])\n",
    "    \n",
    "def fully_connected(ninputs, noutputs):\n",
    "    boundary = np.sqrt(6 / (ninputs + noutputs))\n",
    "    return np.random.uniform(-boundary, boundary, size=(ninputs, noutputs))\n",
    "\n",
    "def softmax(x):\n",
    "    expx = np.exp(x - x.max(axis=1, keepdims=True))\n",
    "    return expx / expx.sum(axis=1, keepdims=True)\n",
    "\n",
    "def accuracy(Yhat, Y):\n",
    "    return (Y.argmax(axis=1) == Yhat.argmax(axis=1)).mean()\n",
    "\n",
    "def cross_entropy(Yhat, Y):\n",
    "    ylogy = Y * np.log(Yhat)\n",
    "    return -ylogy.sum()\n",
    "\n",
    "def ReLU(X):\n",
    "    return np.maximum(X, 0)\n",
    "\n",
    "def dReLU(X):\n",
    "    return (X > 0).astype(float)\n",
    "\n",
    "def drop(X, keep_prob=1):\n",
    "    if keep_prob < 1:\n",
    "        X = X.copy() # we don't want to change X\n",
    "        keeps = np.random.rand(X.shape[1]) < keep_prob\n",
    "        # X.shape is (nsamples, nfeatures)\n",
    "        X[:, ~keeps] = 0 # ignore\n",
    "        X[:, keeps] *= (1/keep_prob) # normalize\n",
    "    return X\n",
    "\n",
    "def predict(Ws, X):\n",
    "    if X.ndim == 1:\n",
    "        X = X.reshape((1, -1))\n",
    "    return feed_forward(Ws, X, keep_prob=1)[-1]\n",
    "\n",
    "def display_prediction(idx):\n",
    "    prediction = predict(Ws, X_test[idx, :]).argmax()\n",
    "    print(prediction)\n",
    "    return display_image(X_test[idx])\n",
    "\n",
    "def loss(Ws, X, Y):\n",
    "    Yhat = predict(Ws, X)\n",
    "    return cross_entropy(Yhat, Y)\n",
    "\n",
    "def gradient_check(Ws, X, Y, Δ=1e-5):\n",
    "    dWs = back_propagation(Ws, X, Y, keep_prob=1)\n",
    "    Ws_ = [W.copy() for W in Ws]\n",
    "\n",
    "    for i, (W_, dW_) in enumerate(zip(Ws_, dWs)):\n",
    "        print('W{}'.format(i+1))\n",
    "        for i in range(W_.shape[0]):\n",
    "            for j in range(W_.shape[1]):\n",
    "                dw = dW_[i, j]\n",
    "                W_[i,j] += Δ\n",
    "                loss1 = loss(Ws_, X, Y)\n",
    "                W_[i,j] -= 2*Δ\n",
    "                loss2 = loss(Ws_, X, Y)\n",
    "                W_[i,j] += Δ\n",
    "                dw_ = (loss1 - loss2) / (2 * Δ)\n",
    "                rel_error = abs(dw - dw_) / abs(dw + dw_)\n",
    "                if not np.isclose(dw_, dw):\n",
    "                    print(i, j, dw, dw_, rel_error)\n",
    "                    \n",
    "def average(prev, curr, β):\n",
    "    return [\n",
    "        β * p + (1 - β) * c\n",
    "        for p, c\n",
    "        in zip(prev, curr)\n",
    "    ]\n",
    "    \n",
    "class AdamOptimizer:\n",
    "    def __init__(self, α=0.001, β1=0.9, β2=0.999, ϵ=1e-8):\n",
    "        self.α = α\n",
    "        self.β1 = β1\n",
    "        self.β2 = β2\n",
    "        self.ϵ = ϵ\n",
    "        self.m = None\n",
    "        self.v = None\n",
    "        self.t = 0\n",
    "\n",
    "    def send(self, gradients):\n",
    "        if self.m is None:\n",
    "            self.m = [0] * len(gradients)\n",
    "        if self.v is None:\n",
    "            self.v = [0] * len(gradients)\n",
    "\n",
    "        self.t += 1\n",
    "        αt = self.α * np.sqrt(1 - self.β2**self.t) / (1 - self.β1**self.t)\n",
    "        self.m = average(self.m, gradients, self.β1)        \n",
    "        self.v = average(self.v, (g*g for g in gradients), self.β2)\n",
    "\n",
    "        updates = [-αt * mi / (np.sqrt(vi) + self.ϵ) for mi, vi in zip(self.m, self.v)]\n",
    "        for upd in updates:\n",
    "            assert np.isfinite(upd).all()\n",
    "        return updates\n",
    "    \n",
    "def trainer(Ws, X, Y, optimizer, batch_size=50, keep_prob=1):    \n",
    "    nsamples = X.shape[0]\n",
    "    batch = 0\n",
    "    while True:\n",
    "        # get next batch\n",
    "        start = (batch * batch_size) % nsamples\n",
    "        stop = start + batch_size\n",
    "        batch_idx = range(start, stop)\n",
    "        X_, Y_ = X[batch_idx, :], Y[batch_idx, :]\n",
    "        \n",
    "        gradients = back_propagation(Ws, X_, Y_, keep_prob=keep_prob) # calculate gradients\n",
    "        \n",
    "        ΔWs = optimizer.send(gradients) # calculate updates\n",
    "        \n",
    "        for W, ΔW in zip(Ws, ΔWs): # apply updates\n",
    "            W += ΔW\n",
    "            \n",
    "        batch += 1\n",
    "        yield batch"
   ]
  },
  {
   "cell_type": "markdown",
   "metadata": {
    "colab_type": "text",
    "id": "YWI8iiPqDPUX"
   },
   "source": [
    "# Ex 1\n",
    "\n",
    "Let's load the data for MNIST digits."
   ]
  },
  {
   "cell_type": "code",
   "execution_count": 3,
   "metadata": {
    "colab": {},
    "colab_type": "code",
    "executionInfo": {
     "elapsed": 3303,
     "status": "ok",
     "timestamp": 1593602998816,
     "user": {
      "displayName": "Sahar Milis",
      "photoUrl": "",
      "userId": "11889752874894564276"
     },
     "user_tz": -180
    },
    "id": "Iq4SksjmDPUk"
   },
   "outputs": [],
   "source": [
    "###\n",
    "\n",
    "(X_train, Y_train), (X_test, Y_test) = keras.datasets.mnist.load_data()\n",
    "\n",
    "nsamples, width, height = X_train.shape\n",
    "nfeatures = width * height\n",
    "X_train = X_train.reshape(nsamples, nfeatures)\n",
    "X_test = X_test.reshape(-1, nfeatures)\n",
    "Y_train = keras.utils.to_categorical(Y_train)\n",
    "Y_test = keras.utils.to_categorical(Y_test)\n",
    "ncats = Y_test.shape[1]"
   ]
  },
  {
   "cell_type": "markdown",
   "metadata": {
    "colab_type": "text",
    "id": "vTe8TqHyDPUo"
   },
   "source": [
    "**Implement `feed_forward` and `back_propagation` from the FFN lecture using a `for` loop so that they work for any number of hidden layers.**\n",
    "\n",
    "Notes: \n",
    "- when implementing `back_propagation`, you can use the `gradient_check` function (from `A5.py`) to test that it works as expected.\n",
    "- please keep the functions signatures as supplied."
   ]
  },
  {
   "cell_type": "code",
   "execution_count": null,
   "metadata": {
    "colab": {},
    "colab_type": "code",
    "executionInfo": {
     "elapsed": 3294,
     "status": "ok",
     "timestamp": 1593602998817,
     "user": {
      "displayName": "Sahar Milis",
      "photoUrl": "",
      "userId": "11889752874894564276"
     },
     "user_tz": -180
    },
    "id": "433vcdrvVE6n"
   },
   "outputs": [],
   "source": [
    "\n"
   ]
  },
  {
   "cell_type": "code",
   "execution_count": 4,
   "metadata": {
    "colab": {},
    "colab_type": "code",
    "executionInfo": {
     "elapsed": 3285,
     "status": "ok",
     "timestamp": 1593602998817,
     "user": {
      "displayName": "Sahar Milis",
      "photoUrl": "",
      "userId": "11889752874894564276"
     },
     "user_tz": -180
    },
    "id": "5QNgWwOdDPUp"
   },
   "outputs": [],
   "source": [
    "def feed_forward(Ws, X, keep_prob=1): ###\n",
    "    \n",
    "    # input layer\n",
    "    layers = [X] \n",
    "\n",
    "    # hidden layers\n",
    "    for i,w in enumerate(Ws[:-1]):\n",
    "      X = X @ w\n",
    "      X = drop(X,keep_prob)\n",
    "      X = ReLU(X)\n",
    "      layers.append(X)\n",
    "    \n",
    "    # final layer\n",
    "    X = X @ Ws[-1]\n",
    "    X = softmax(X)\n",
    "    layers.append(X)\n",
    "\n",
    "    return layers   \n",
    "    "
   ]
  },
  {
   "cell_type": "code",
   "execution_count": 5,
   "metadata": {
    "colab": {},
    "colab_type": "code",
    "executionInfo": {
     "elapsed": 3279,
     "status": "ok",
     "timestamp": 1593602998818,
     "user": {
      "displayName": "Sahar Milis",
      "photoUrl": "",
      "userId": "11889752874894564276"
     },
     "user_tz": -180
    },
    "id": "NCI384djDPUu"
   },
   "outputs": [],
   "source": [
    "def back_propagation(Ws, X, Y, keep_prob=1): ###\n",
    "    \n",
    "    gradients = []\n",
    "    layers = feed_forward(Ws,X,keep_prob) \n",
    "    # print('number of layers: ',len(layers))\n",
    "    # print('number of Ws: ',len(Ws))\n",
    "\n",
    "    # output layer\n",
    "    y_hat = layers.pop() \n",
    "    δ = y_hat - Y\n",
    "    \n",
    "    for i in range(1,len(Ws)+1):\n",
    "      z = layers.pop()\n",
    "      \n",
    "      # get the gradients\n",
    "      gradients.append(z.T @ δ) \n",
    "      \n",
    "      # stop when reaching input layer - to save computations\n",
    "      if i == len(Ws):\n",
    "        break\n",
    "\n",
    "      # get the layer's loss\n",
    "      δ = δ @ Ws[-i].T \n",
    "      \n",
    "      # get the activation derivative\n",
    "      δ *= dReLU(z)\n",
    "\n",
    "    # reverse the order\n",
    "    gradients.reverse()\n",
    "\n",
    "    # sanity checks\n",
    "    assert len(gradients) == len(Ws), (len(gradients), len(Ws))\n",
    "    for dW, W in zip(gradients, Ws):\n",
    "        assert dW.shape == W.shape, (dW.shape, W.shape)\n",
    "    return gradients"
   ]
  },
  {
   "cell_type": "markdown",
   "metadata": {
    "colab_type": "text",
    "id": "wjqdJEk_DPUz"
   },
   "source": [
    "Now **train the FFN model** with 2 or more hidden layers, and print its accuracy on the test set.\n",
    "\n",
    "I was able to achieve 0.93 test accuracy with about 7-8 seconds of training."
   ]
  },
  {
   "cell_type": "code",
   "execution_count": 6,
   "metadata": {
    "colab": {
     "base_uri": "https://localhost:8080/",
     "height": 34
    },
    "colab_type": "code",
    "executionInfo": {
     "elapsed": 3269,
     "status": "ok",
     "timestamp": 1593602998818,
     "user": {
      "displayName": "Sahar Milis",
      "photoUrl": "",
      "userId": "11889752874894564276"
     },
     "user_tz": -180
    },
    "id": "zKa3H96zWhWw",
    "outputId": "83fc41b3-3048-46d8-a173-4d2e2c7056b7"
   },
   "outputs": [
    {
     "data": {
      "text/plain": [
       "((60000, 10), (60000, 784))"
      ]
     },
     "execution_count": 6,
     "metadata": {},
     "output_type": "execute_result"
    }
   ],
   "source": [
    "Y_train.shape,X_train.shape\n"
   ]
  },
  {
   "cell_type": "code",
   "execution_count": 7,
   "metadata": {
    "colab": {},
    "colab_type": "code",
    "executionInfo": {
     "elapsed": 3261,
     "status": "ok",
     "timestamp": 1593602998819,
     "user": {
      "displayName": "Sahar Milis",
      "photoUrl": "",
      "userId": "11889752874894564276"
     },
     "user_tz": -180
    },
    "id": "iuehOJiGDPU0"
   },
   "outputs": [],
   "source": [
    "### change the ?s\n",
    "W1 = fully_connected(X_train.shape[1],64)\n",
    "W2 = fully_connected(64,32)\n",
    "W3 = fully_connected(32,10)\n",
    "Ws = [W1, W2, W3]\n",
    "\n",
    "batch_size = 100\n",
    "train = trainer(Ws, X_train, Y_train, batch_size=batch_size, optimizer=AdamOptimizer())"
   ]
  },
  {
   "cell_type": "code",
   "execution_count": 8,
   "metadata": {
    "colab": {
     "base_uri": "https://localhost:8080/",
     "height": 34
    },
    "colab_type": "code",
    "executionInfo": {
     "elapsed": 3252,
     "status": "ok",
     "timestamp": 1593602998819,
     "user": {
      "displayName": "Sahar Milis",
      "photoUrl": "",
      "userId": "11889752874894564276"
     },
     "user_tz": -180
    },
    "id": "-54b5rQGDPU3",
    "outputId": "c7813738-996b-4424-c151-232acbeb4a2c"
   },
   "outputs": [
    {
     "name": "stdout",
     "output_type": "stream",
     "text": [
      "Accuracy: 0.0683\n"
     ]
    }
   ],
   "source": [
    "acc = accuracy(predict(Ws, X_test), Y_test)\n",
    "print(\"Accuracy: {:.4f}\".format(acc))"
   ]
  },
  {
   "cell_type": "code",
   "execution_count": 9,
   "metadata": {
    "colab": {
     "base_uri": "https://localhost:8080/",
     "height": 34
    },
    "colab_type": "code",
    "executionInfo": {
     "elapsed": 24331,
     "status": "ok",
     "timestamp": 1593603019908,
     "user": {
      "displayName": "Sahar Milis",
      "photoUrl": "",
      "userId": "11889752874894564276"
     },
     "user_tz": -180
    },
    "id": "HHQ0ITMUDPU9",
    "outputId": "fd3e240e-b9a3-4860-9558-e7cbda33e99a"
   },
   "outputs": [
    {
     "name": "stdout",
     "output_type": "stream",
     "text": [
      "Accuracy (6000): 0.9514\n"
     ]
    }
   ],
   "source": [
    "### change the ?s\n",
    "epochs = 10\n",
    "for batch in train:\n",
    "    if batch == epochs * nsamples // batch_size: break\n",
    "\n",
    "acc = accuracy(predict(Ws, X_test), Y_test)\n",
    "print(\"Accuracy ({:d}): {:.4f}\".format(batch, acc))"
   ]
  },
  {
   "cell_type": "markdown",
   "metadata": {
    "colab_type": "text",
    "id": "p13o3JUxDPVB"
   },
   "source": [
    "# Ex 2\n",
    "\n",
    "## Keras\n",
    "\n",
    "[Keras](https://keras.io/) is a high-level neural networks API, written in Python and capable of running on top of TensorFlow, [CNTK](https://docs.microsoft.com/en-us/cognitive-toolkit/) (MS deep learning package), or [Theano](http://www.deeplearning.net/software/theano/).\n",
    "\n",
    "The main benefit is that it *allows for easy and fast prototyping*.\n",
    "\n",
    "Since version 1.4 of TensorFlow, Keras is installed with TensorFlow as a high-level interface to TensorFlow.\n",
    "\n",
    "## Fashion-MNIST datasetset\n",
    "\n",
    "The Fashion-MNIST dataset contains 60,000 28x28 grayscale images of 10 fashion categories, along with a test set of 10,000 images. This dataset can be used as a drop-in replacement for MNIST. The class labels are:\n",
    "\n",
    "\n",
    "| Label |\tDescription|\n",
    "|---|------------------|\n",
    "| 0 |\tT-shirt/top    |\n",
    "| 1 |\tTrouser        |\n",
    "| 2 |\tPullover       |\n",
    "| 3 |\tDress          |\n",
    "| 4 |\tCoat           |\n",
    "| 5 |\tSandal         |\n",
    "| 6 |\tShirt          |\n",
    "| 7 |\tSneaker        |\n",
    "| 8 |\tBag            |\n",
    "| 9 |\tAnkle boot     |\n",
    "\n",
    "See more information on this dataset in the [keras docs](https://keras.io/datasets/).\n",
    "\n",
    "In this exercise we will use Keras to train a neural network on the dataset. "
   ]
  },
  {
   "cell_type": "code",
   "execution_count": 10,
   "metadata": {
    "colab": {
     "base_uri": "https://localhost:8080/",
     "height": 151
    },
    "colab_type": "code",
    "executionInfo": {
     "elapsed": 24760,
     "status": "ok",
     "timestamp": 1593603020346,
     "user": {
      "displayName": "Sahar Milis",
      "photoUrl": "",
      "userId": "11889752874894564276"
     },
     "user_tz": -180
    },
    "id": "RhNBSBWUDPVB",
    "outputId": "a72f0025-9e7a-45a6-c716-f250e987f8cb"
   },
   "outputs": [
    {
     "name": "stdout",
     "output_type": "stream",
     "text": [
      "Keras 2.4.0\n",
      "WARNING:tensorflow:From <ipython-input-10-af544c1dc32e>:12: is_gpu_available (from tensorflow.python.framework.test_util) is deprecated and will be removed in a future version.\n",
      "Instructions for updating:\n",
      "Use `tf.config.list_physical_devices('GPU')` instead.\n",
      "GPU: True\n",
      "GPU: [PhysicalDevice(name='/physical_device:GPU:0', device_type='GPU')]\n",
      "/device:GPU:0\n"
     ]
    }
   ],
   "source": [
    "###\n",
    "%matplotlib inline\n",
    "import matplotlib.pyplot as plt\n",
    "import numpy as np\n",
    "\n",
    "import tensorflow as tf\n",
    "try:\n",
    "    import keras\n",
    "except ModuleNotFoundError:\n",
    "    from tensorflow import keras\n",
    "print('Keras', keras.__version__)\n",
    "print('GPU:', tf.test.is_gpu_available()) \n",
    "print('GPU:', tf.config.list_physical_devices('GPU')) # should use this way\n",
    "print(tf.test.gpu_device_name())"
   ]
  },
  {
   "cell_type": "code",
   "execution_count": 11,
   "metadata": {
    "colab": {},
    "colab_type": "code",
    "executionInfo": {
     "elapsed": 25381,
     "status": "ok",
     "timestamp": 1593603020975,
     "user": {
      "displayName": "Sahar Milis",
      "photoUrl": "",
      "userId": "11889752874894564276"
     },
     "user_tz": -180
    },
    "id": "1V6oQLvyDPVG"
   },
   "outputs": [],
   "source": [
    "###\n",
    "from tensorflow.keras.datasets import fashion_mnist\n",
    "(x_train, y_train), (x_test, y_test) = fashion_mnist.load_data()"
   ]
  },
  {
   "cell_type": "markdown",
   "metadata": {
    "colab_type": "text",
    "id": "GCTvDWuWDPVK"
   },
   "source": [
    "We need to convert the images to a float32 between 0 and 1 and reshape to 28x28x1 (only one channel for black and white) because 2D convolutions expect 3D images (3rd dimension is channel or image).\n",
    "\n",
    "We also need to one-hot encode the labels, and to scale the data from 0-255 to 0-1."
   ]
  },
  {
   "cell_type": "code",
   "execution_count": 12,
   "metadata": {
    "colab": {},
    "colab_type": "code",
    "executionInfo": {
     "elapsed": 25373,
     "status": "ok",
     "timestamp": 1593603020975,
     "user": {
      "displayName": "Sahar Milis",
      "photoUrl": "",
      "userId": "11889752874894564276"
     },
     "user_tz": -180
    },
    "id": "NOrDURmpDPVL"
   },
   "outputs": [],
   "source": [
    "###\n",
    "x_train = x_train.astype('float32')\n",
    "x_test = x_test.astype('float32')\n",
    "x_train /= 255\n",
    "x_test /= 255\n",
    "x_train = x_train.reshape((-1, 28, 28, 1))\n",
    "x_test = x_test.reshape((-1, 28, 28, 1))\n",
    "num_classes = len(np.unique(y_train))\n",
    "y_train = keras.utils.to_categorical(y_train, num_classes)\n",
    "y_test = keras.utils.to_categorical(y_test, num_classes)"
   ]
  },
  {
   "cell_type": "markdown",
   "metadata": {
    "colab_type": "text",
    "id": "brb4gDyBDPVP"
   },
   "source": [
    "Let's see the images."
   ]
  },
  {
   "cell_type": "code",
   "execution_count": 13,
   "metadata": {
    "colab": {
     "base_uri": "https://localhost:8080/",
     "height": 163
    },
    "colab_type": "code",
    "executionInfo": {
     "elapsed": 25366,
     "status": "ok",
     "timestamp": 1593603020976,
     "user": {
      "displayName": "Sahar Milis",
      "photoUrl": "",
      "userId": "11889752874894564276"
     },
     "user_tz": -180
    },
    "id": "bp1HnystDPVQ",
    "outputId": "6fcb7448-ee21-4315-9559-9ed60ce1156e"
   },
   "outputs": [
    {
     "name": "stdout",
     "output_type": "stream",
     "text": [
      "[0. 0. 0. 0. 0. 0. 0. 1. 0. 0.]\n"
     ]
    },
    {
     "data": {
      "image/png": "[encoded data removed]",
      "text/plain": [
       "<Figure size 144x144 with 1 Axes>"
      ]
     },
     "metadata": {},
     "output_type": "display_data"
    }
   ],
   "source": [
    "###\n",
    "i = np.random.randint(0, x_train.shape[0])\n",
    "plt.figure(figsize=(2,2))\n",
    "plt.imshow(x_train[i, :, :, 0], cmap='gray_r')\n",
    "plt.xticks([]); plt.yticks([])\n",
    "print(y_train[i])"
   ]
  },
  {
   "cell_type": "markdown",
   "metadata": {
    "colab_type": "text",
    "id": "v7dZiNc2DPVU"
   },
   "source": [
    "## Using Keras\n",
    "\n",
    "A Keras model can be built by defining the model layers, then giving them to the `Sequential` model object.\n",
    "You could also first create the model object and the use its `add` method to add layers.\n",
    "\n",
    "A `Dense` layer uses matrix muliplication. We need to provide it with the number of outputs, in this case the number of categories, and the activation function, in this case the softmax function.\n",
    "\n",
    "A `Flatten` layer just flatten the input data - turns it into a 1D array.\n",
    "The first layer always has to be told the shape of the input (`X`) using `input_shape`.\n",
    "\n",
    "```python\n",
    "layers = [\n",
    "    keras.layers.LayerName(arguments),\n",
    "    ...\n",
    "]\n",
    "model = keras.models.Sequential(layers)\n",
    "```\n",
    "\n",
    "After defining the network, we can print a summary using `model.summary()`.\n",
    "Then, we need to compile the Keras model (which creates the underlying TensorFlow network) and configuring it for training.\n",
    "At this stage we can choose the [loss function](https://keras.io/api/losses/), the [optimizer](https://keras.io/api/optimizers/), and additional [metrics](https://keras.io/api/metrics/) we with to collect, such as accuracy.\n",
    "\n",
    "```python\n",
    "model.compile(\n",
    "    loss=...,\n",
    "    optimizer=...,\n",
    "    metrics=[...]\n",
    ")\n",
    "```\n",
    "\n",
    "After compiling the network, we are ready to train it by giving it the train and test datasets:\n",
    "Training is done by calling the `fit` method of the model object\n",
    "```python\n",
    "model.fit(\n",
    "    x_train, y_train,\n",
    "    batch_size=...,\n",
    "    epochs=...,\n",
    "    validation_data=(x_test, y_test)\n",
    ")\n",
    "```\n",
    "\n",
    "The `fit` method retuns a `history` object that can be used to plot the accuracy and loss over time (see plot below).\n",
    "\n",
    "**Build, train, and score a neural network**. \n",
    "\n",
    "You can use a feed forward network, or you can use a more sophisticated approach with a convolutional neural network (CNN). Or try both.\n",
    "As long as you reach a high enough accuracy (>80%) it is fine."
   ]
  },
  {
   "cell_type": "code",
   "execution_count": 14,
   "metadata": {
    "colab": {},
    "colab_type": "code",
    "executionInfo": {
     "elapsed": 25358,
     "status": "ok",
     "timestamp": 1593603020976,
     "user": {
      "displayName": "Sahar Milis",
      "photoUrl": "",
      "userId": "11889752874894564276"
     },
     "user_tz": -180
    },
    "id": "wJfsmGbi4sAj"
   },
   "outputs": [],
   "source": [
    "import tensorflow as tf\n",
    "from tensorflow import keras\n",
    "from tensorflow.keras import layers\n",
    "\n",
    "from time import time\n",
    "import numpy as np \n",
    "\n",
    "import pandas as pd\n",
    "from tabulate import tabulate\n"
   ]
  },
  {
   "cell_type": "code",
   "execution_count": 15,
   "metadata": {
    "colab": {},
    "colab_type": "code",
    "executionInfo": {
     "elapsed": 1045,
     "status": "ok",
     "timestamp": 1593603064087,
     "user": {
      "displayName": "Sahar Milis",
      "photoUrl": "",
      "userId": "11889752874894564276"
     },
     "user_tz": -180
    },
    "id": "DuoV5t3W81O_"
   },
   "outputs": [],
   "source": [
    "def model_summary_compile_fit_eval(model,x_train,y_train,x_test,y_test):\n",
    "    model.summary()\n",
    "\n",
    "    # optimizer & loss function & metric\n",
    "    opt = keras.optimizers.Adam()\n",
    "    loss_fn = keras.losses.CategoricalCrossentropy()\n",
    "\n",
    "    # model compile\n",
    "    model.compile(loss=loss_fn,optimizer=opt,metrics=['accuracy'])\n",
    "\n",
    "    # model fit\n",
    "    train_time = time()\n",
    "    history = model.fit(x=x_train,y=y_train,epochs=10,batch_size=100,validation_split=0.1)\n",
    "    train_time = time() - train_time\n",
    "\n",
    "    # score trained model\n",
    "    loss, acc = model.evaluate(x_test, y_test, verbose=1)\n",
    "    \n",
    "    return (history.history,loss,acc,train_time)"
   ]
  },
  {
   "cell_type": "markdown",
   "metadata": {
    "colab_type": "text",
    "id": "KqY7G_7t4k7M"
   },
   "source": [
    "## Dense Model"
   ]
  },
  {
   "cell_type": "code",
   "execution_count": 16,
   "metadata": {
    "colab": {
     "base_uri": "https://localhost:8080/",
     "height": 605
    },
    "colab_type": "code",
    "executionInfo": {
     "elapsed": 21869,
     "status": "ok",
     "timestamp": 1593603086397,
     "user": {
      "displayName": "Sahar Milis",
      "photoUrl": "",
      "userId": "11889752874894564276"
     },
     "user_tz": -180
    },
    "id": "KSkE8kukDPVV",
    "outputId": "dba3b7eb-ed6a-4e41-c751-cfa3c1cc9bda"
   },
   "outputs": [
    {
     "name": "stdout",
     "output_type": "stream",
     "text": [
      "Model: \"sequential\"\n",
      "_________________________________________________________________\n",
      "Layer (type)                 Output Shape              Param #   \n",
      "=================================================================\n",
      "dense (Dense)                (None, 32)                25120     \n",
      "_________________________________________________________________\n",
      "dense_1 (Dense)              (None, 16)                528       \n",
      "_________________________________________________________________\n",
      "dense_2 (Dense)              (None, 10)                170       \n",
      "=================================================================\n",
      "Total params: 25,818\n",
      "Trainable params: 25,818\n",
      "Non-trainable params: 0\n",
      "_________________________________________________________________\n",
      "Epoch 1/10\n",
      "540/540 [==============================] - 1s 2ms/step - loss: 0.7198 - accuracy: 0.7566 - val_loss: 0.4704 - val_accuracy: 0.8318\n",
      "Epoch 2/10\n",
      "540/540 [==============================] - 1s 2ms/step - loss: 0.4479 - accuracy: 0.8434 - val_loss: 0.4177 - val_accuracy: 0.8535\n",
      "Epoch 3/10\n",
      "540/540 [==============================] - 1s 2ms/step - loss: 0.4073 - accuracy: 0.8563 - val_loss: 0.3963 - val_accuracy: 0.8567\n",
      "Epoch 4/10\n",
      "540/540 [==============================] - 1s 2ms/step - loss: 0.3852 - accuracy: 0.8636 - val_loss: 0.3741 - val_accuracy: 0.8653\n",
      "Epoch 5/10\n",
      "540/540 [==============================] - 1s 2ms/step - loss: 0.3683 - accuracy: 0.8680 - val_loss: 0.3828 - val_accuracy: 0.8627\n",
      "Epoch 6/10\n",
      "540/540 [==============================] - 1s 2ms/step - loss: 0.3524 - accuracy: 0.8735 - val_loss: 0.3857 - val_accuracy: 0.8612\n",
      "Epoch 7/10\n",
      "540/540 [==============================] - 1s 2ms/step - loss: 0.3404 - accuracy: 0.8779 - val_loss: 0.3640 - val_accuracy: 0.8710\n",
      "Epoch 8/10\n",
      "540/540 [==============================] - 1s 2ms/step - loss: 0.3332 - accuracy: 0.8793 - val_loss: 0.3472 - val_accuracy: 0.8728\n",
      "Epoch 9/10\n",
      "540/540 [==============================] - 1s 2ms/step - loss: 0.3255 - accuracy: 0.8817 - val_loss: 0.3506 - val_accuracy: 0.8720\n",
      "Epoch 10/10\n",
      "540/540 [==============================] - 1s 2ms/step - loss: 0.3152 - accuracy: 0.8836 - val_loss: 0.3473 - val_accuracy: 0.8733\n",
      "313/313 [==============================] - 1s 2ms/step - loss: 0.3758 - accuracy: 0.8633\n"
     ]
    }
   ],
   "source": [
    "# reshape train data for dense\n",
    "input_shape    = np.prod(x_train.shape[1:])\n",
    "x_train_dense  = x_train.reshape(-1,input_shape)\n",
    "x_test_dense   = x_test.reshape(-1,input_shape)\n",
    "\n",
    "# model architecture\n",
    "model_dense = keras.Sequential()\n",
    "model_dense.add(keras.Input( (input_shape,)  ))  \n",
    "model_dense.add(layers.Dense(32,activation='relu'))\n",
    "model_dense.add(layers.Dense(16,activation='relu'))\n",
    "model_dense.add(layers.Dense(y_train.shape[1],activation='softmax'))\n",
    "\n",
    "hist_dense,loss_dense,acc_dense,train_time_dense = model_summary_compile_fit_eval(model_dense,x_train=x_train_dense,y_train=y_train,x_test=x_test_dense,y_test=y_test)"
   ]
  },
  {
   "cell_type": "markdown",
   "metadata": {
    "colab_type": "text",
    "id": "di-8vJSV4uDR"
   },
   "source": [
    "## Convolutional Model\n",
    "### with the same number of parameters as Dense model\n",
    "\n",
    "\n"
   ]
  },
  {
   "cell_type": "code",
   "execution_count": 17,
   "metadata": {
    "colab": {
     "base_uri": "https://localhost:8080/",
     "height": 672
    },
    "colab_type": "code",
    "executionInfo": {
     "elapsed": 64461,
     "status": "ok",
     "timestamp": 1593603131415,
     "user": {
      "displayName": "Sahar Milis",
      "photoUrl": "",
      "userId": "11889752874894564276"
     },
     "user_tz": -180
    },
    "id": "26nHcoe_4yj-",
    "outputId": "34da9c82-8851-4a7d-b4d5-d2899fd7a653"
   },
   "outputs": [
    {
     "name": "stdout",
     "output_type": "stream",
     "text": [
      "Model: \"sequential_1\"\n",
      "_________________________________________________________________\n",
      "Layer (type)                 Output Shape              Param #   \n",
      "=================================================================\n",
      "conv2d (Conv2D)              (None, 24, 24, 32)        832       \n",
      "_________________________________________________________________\n",
      "conv2d_1 (Conv2D)            (None, 22, 22, 32)        9248      \n",
      "_________________________________________________________________\n",
      "max_pooling2d (MaxPooling2D) (None, 7, 7, 32)          0         \n",
      "_________________________________________________________________\n",
      "flatten (Flatten)            (None, 1568)              0         \n",
      "_________________________________________________________________\n",
      "dense_3 (Dense)              (None, 10)                15690     \n",
      "=================================================================\n",
      "Total params: 25,770\n",
      "Trainable params: 25,770\n",
      "Non-trainable params: 0\n",
      "_________________________________________________________________\n",
      "Epoch 1/10\n",
      "  1/540 [..............................] - ETA: 1s - loss: 2.3033 - accuracy: 0.0400WARNING:tensorflow:Callbacks method `on_train_batch_end` is slow compared to the batch time (batch time: 0.0020s vs `on_train_batch_end` time: 0.0150s). Check your callbacks.\n",
      "537/540 [============================>.] - ETA: 0s - loss: 0.5692 - accuracy: 0.7972WARNING:tensorflow:Callbacks method `on_test_batch_end` is slow compared to the batch time (batch time: 0.0010s vs `on_test_batch_end` time: 0.0050s). Check your callbacks.\n",
      "540/540 [==============================] - 9s 17ms/step - loss: 0.5682 - accuracy: 0.7975 - val_loss: 0.4019 - val_accuracy: 0.8538\n",
      "Epoch 2/10\n",
      "540/540 [==============================] - 9s 16ms/step - loss: 0.3651 - accuracy: 0.8724 - val_loss: 0.3433 - val_accuracy: 0.8753\n",
      "Epoch 3/10\n",
      "540/540 [==============================] - 9s 16ms/step - loss: 0.3250 - accuracy: 0.8849 - val_loss: 0.3327 - val_accuracy: 0.8823\n",
      "Epoch 4/10\n",
      "540/540 [==============================] - 9s 16ms/step - loss: 0.2957 - accuracy: 0.8950 - val_loss: 0.3089 - val_accuracy: 0.8880\n",
      "Epoch 5/10\n",
      "540/540 [==============================] - 9s 16ms/step - loss: 0.2790 - accuracy: 0.9003 - val_loss: 0.2833 - val_accuracy: 0.8965\n",
      "Epoch 6/10\n",
      "540/540 [==============================] - 9s 16ms/step - loss: 0.2623 - accuracy: 0.9054 - val_loss: 0.2973 - val_accuracy: 0.8890\n",
      "Epoch 7/10\n",
      "540/540 [==============================] - 9s 16ms/step - loss: 0.2461 - accuracy: 0.9119 - val_loss: 0.2645 - val_accuracy: 0.9033\n",
      "Epoch 8/10\n",
      "540/540 [==============================] - 9s 16ms/step - loss: 0.2356 - accuracy: 0.9154 - val_loss: 0.2748 - val_accuracy: 0.9012\n",
      "Epoch 9/10\n",
      "540/540 [==============================] - 9s 16ms/step - loss: 0.2280 - accuracy: 0.9181 - val_loss: 0.2916 - val_accuracy: 0.8915\n",
      "Epoch 10/10\n",
      "540/540 [==============================] - 9s 16ms/step - loss: 0.2173 - accuracy: 0.9206 - val_loss: 0.2541 - val_accuracy: 0.9078\n",
      "313/313 [==============================] - 1s 3ms/step - loss: 0.2692 - accuracy: 0.9055\n"
     ]
    }
   ],
   "source": [
    "# reshape train data - no need\n",
    "input_shape = x_train[0].shape\n",
    "\n",
    "# model architecture\n",
    "model_conv = keras.Sequential()\n",
    "model_conv.add(keras.Input(input_shape  )) \n",
    "model_conv.add(layers.Conv2D(32, 5, activation=\"relu\"))\n",
    "model_conv.add(layers.Conv2D(32, 3, activation=\"relu\"))\n",
    "model_conv.add(layers.MaxPooling2D(3))\n",
    "model_conv.add(layers.Flatten())\n",
    "model_conv.add(layers.Dense(y_train.shape[1],activation='softmax'))\n",
    "\n",
    "hist_conv,loss_conv,acc_conv,train_time_conv = model_summary_compile_fit_eval(model_conv,x_train=x_train,y_train=y_train,x_test=x_test,y_test=y_test)"
   ]
  },
  {
   "cell_type": "markdown",
   "metadata": {
    "colab_type": "text",
    "id": "aS_t-24-8RiR"
   },
   "source": [
    "## Convolutional Model\n",
    "### with a smaller number of parameters"
   ]
  },
  {
   "cell_type": "code",
   "execution_count": 18,
   "metadata": {
    "colab": {
     "base_uri": "https://localhost:8080/",
     "height": 638
    },
    "colab_type": "code",
    "executionInfo": {
     "elapsed": 89036,
     "status": "ok",
     "timestamp": 1593603157321,
     "user": {
      "displayName": "Sahar Milis",
      "photoUrl": "",
      "userId": "11889752874894564276"
     },
     "user_tz": -180
    },
    "id": "8qhrwsIX8RAH",
    "outputId": "783573ba-c1d7-4142-c04b-24ad67891ce2"
   },
   "outputs": [
    {
     "name": "stdout",
     "output_type": "stream",
     "text": [
      "Model: \"sequential_2\"\n",
      "_________________________________________________________________\n",
      "Layer (type)                 Output Shape              Param #   \n",
      "=================================================================\n",
      "conv2d_2 (Conv2D)            (None, 12, 12, 32)        832       \n",
      "_________________________________________________________________\n",
      "max_pooling2d_1 (MaxPooling2 (None, 4, 4, 32)          0         \n",
      "_________________________________________________________________\n",
      "flatten_1 (Flatten)          (None, 512)               0         \n",
      "_________________________________________________________________\n",
      "dense_4 (Dense)              (None, 10)                5130      \n",
      "=================================================================\n",
      "Total params: 5,962\n",
      "Trainable params: 5,962\n",
      "Non-trainable params: 0\n",
      "_________________________________________________________________\n",
      "Epoch 1/10\n",
      "540/540 [==============================] - 1s 3ms/step - loss: 0.7402 - accuracy: 0.7535 - val_loss: 0.4874 - val_accuracy: 0.8225\n",
      "Epoch 2/10\n",
      "540/540 [==============================] - 1s 3ms/step - loss: 0.4502 - accuracy: 0.8428 - val_loss: 0.4265 - val_accuracy: 0.8517\n",
      "Epoch 3/10\n",
      "540/540 [==============================] - 1s 3ms/step - loss: 0.4066 - accuracy: 0.8580 - val_loss: 0.4066 - val_accuracy: 0.8523\n",
      "Epoch 4/10\n",
      "540/540 [==============================] - 1s 2ms/step - loss: 0.3829 - accuracy: 0.8658 - val_loss: 0.3791 - val_accuracy: 0.8632\n",
      "Epoch 5/10\n",
      "540/540 [==============================] - 1s 3ms/step - loss: 0.3671 - accuracy: 0.8714 - val_loss: 0.3619 - val_accuracy: 0.8688\n",
      "Epoch 6/10\n",
      "540/540 [==============================] - 2s 3ms/step - loss: 0.3548 - accuracy: 0.8749 - val_loss: 0.3533 - val_accuracy: 0.8727\n",
      "Epoch 7/10\n",
      "540/540 [==============================] - 1s 3ms/step - loss: 0.3452 - accuracy: 0.8781 - val_loss: 0.3608 - val_accuracy: 0.8677\n",
      "Epoch 8/10\n",
      "540/540 [==============================] - 2s 4ms/step - loss: 0.3369 - accuracy: 0.8806 - val_loss: 0.3409 - val_accuracy: 0.8753\n",
      "Epoch 9/10\n",
      "540/540 [==============================] - 1s 3ms/step - loss: 0.3298 - accuracy: 0.8824 - val_loss: 0.3434 - val_accuracy: 0.8742\n",
      "Epoch 10/10\n",
      "540/540 [==============================] - 2s 3ms/step - loss: 0.3239 - accuracy: 0.8843 - val_loss: 0.3333 - val_accuracy: 0.8780\n",
      "313/313 [==============================] - 1s 2ms/step - loss: 0.3490 - accuracy: 0.8734\n"
     ]
    }
   ],
   "source": [
    "# reshape train data - no need\n",
    "input_shape = x_train[0].shape\n",
    "\n",
    "# model architecture\n",
    "model_conv_small = keras.Sequential()\n",
    "model_conv_small.add(keras.Input(input_shape  )) \n",
    "model_conv_small.add(layers.Conv2D(32, 5, strides=2, activation=\"relu\"))\n",
    "model_conv_small.add(layers.MaxPooling2D(3))\n",
    "model_conv_small.add(layers.Flatten())\n",
    "model_conv_small.add(layers.Dense(y_train.shape[1],activation='softmax'))\n",
    "\n",
    "hist_conv_small,loss_conv_small,acc_conv_small,train_time_conv_small = model_summary_compile_fit_eval(model_conv_small,x_train=x_train,y_train=y_train,x_test=x_test,y_test=y_test)"
   ]
  },
  {
   "cell_type": "markdown",
   "metadata": {
    "colab_type": "text",
    "id": "jYzn1_87By9x"
   },
   "source": [
    "# Plot the models results"
   ]
  },
  {
   "cell_type": "code",
   "execution_count": 19,
   "metadata": {
    "colab": {
     "base_uri": "https://localhost:8080/",
     "height": 473
    },
    "colab_type": "code",
    "executionInfo": {
     "elapsed": 1751,
     "status": "ok",
     "timestamp": 1593603467929,
     "user": {
      "displayName": "Sahar Milis",
      "photoUrl": "",
      "userId": "11889752874894564276"
     },
     "user_tz": -180
    },
    "id": "S674PD_aByLp",
    "outputId": "4cc7a03e-5b03-4287-ca1d-278a91b7989b"
   },
   "outputs": [
    {
     "name": "stdout",
     "output_type": "stream",
     "text": [
      "+---------------------------+----------+------------+-----------------+------------+----------------+\n",
      "|                           |     Loss |   Accuracy |   Training Time |   # Layers |   # Parameters |\n",
      "|---------------------------+----------+------------+-----------------+------------+----------------|\n",
      "| Dense Model               | 0.375802 |     0.8633 |         10.2777 |          3 |          25818 |\n",
      "| Convolutional Model       | 0.269159 |     0.9055 |         91.9062 |          5 |          25770 |\n",
      "| Small Convolutional Model | 0.348952 |     0.8734 |         15.1954 |          4 |           5962 |\n",
      "+---------------------------+----------+------------+-----------------+------------+----------------+\n"
     ]
    },
    {
     "data": {
      "image/png": "[encoded data removed]",
      "text/plain": [
       "<Figure size 1440x360 with 3 Axes>"
      ]
     },
     "metadata": {
      "needs_background": "light"
     },
     "output_type": "display_data"
    }
   ],
   "source": [
    "# print loss,acc,time\n",
    "columns = ['Loss','Accuracy','Training Time','# Layers','# Parameters']\n",
    "num_layers = [len(model_dense.layers),len(model_conv.layers),len(model_conv_small.layers)]\n",
    "num_params = [model_dense.count_params(),model_conv.count_params(),model_conv_small.count_params()]\n",
    "\n",
    "df = pd.DataFrame(columns=columns)\n",
    "df.loc['Dense Model'] = [loss_dense,acc_dense,train_time_dense,num_layers[0],num_params[0]]\n",
    "df.loc['Convolutional Model'] = [loss_conv,acc_conv,train_time_conv,num_layers[1],num_params[1]]\n",
    "df.loc['Small Convolutional Model'] = [loss_conv_small,acc_conv_small,train_time_conv_small,num_layers[2],num_params[2]]\n",
    "\n",
    "print(tabulate(df,headers='keys',tablefmt='psql'))\n",
    "\n",
    "# plot accuracy over time\n",
    "fig, axes = plt.subplots(1, 3, figsize=(20, 5))\n",
    "titles = ['Dense Model','Convolutional Model', 'Small Convolutional Model']\n",
    "\n",
    "for ax,hist,title in zip(axes,[hist_dense,hist_conv,hist_conv_small],titles):\n",
    "  ax.plot(hist['accuracy'], label='train')\n",
    "  ax.plot(hist['val_accuracy'], label='test')\n",
    "  ax.set_title(title)\n",
    "  ax.set_xlabel('epoch')\n",
    "  ax.set_ylabel('accuracy')\n",
    "  ax.legend();"
   ]
  },
  {
   "cell_type": "markdown",
   "metadata": {
    "colab_type": "text",
    "id": "hYJd3rn1K4VZ"
   },
   "source": [
    "# <u>Conclusion</u>  \n",
    "## In my opinion, I would choose to use the **Small Convolutional Model**.\n",
    "It has the least amount of parameters and has the smallest training time, while having a high accuracy on the test set.\n"
   ]
  },
  {
   "cell_type": "markdown",
   "metadata": {
    "colab_type": "text",
    "id": "0bCRA91sDPVo"
   },
   "source": [
    "**end of assignment**"
   ]
  },
  {
   "cell_type": "code",
   "execution_count": null,
   "metadata": {},
   "outputs": [],
   "source": []
  },
  {
   "cell_type": "code",
   "execution_count": null,
   "metadata": {},
   "outputs": [],
   "source": []
  },
  {
   "cell_type": "code",
   "execution_count": 24,
   "metadata": {},
   "outputs": [],
   "source": [
    "tf.debugging.set_log_device_placement(True)\n",
    "\n",
    "try:\n",
    "  # Specify an invalid GPU device\n",
    "  with tf.device('/device:GPU:2'):\n",
    "    a = tf.constant([[1.0, 2.0, 3.0], [4.0, 5.0, 6.0]])\n",
    "    b = tf.constant([[1.0, 2.0], [3.0, 4.0], [5.0, 6.0]])\n",
    "    c = tf.matmul(a, b)\n",
    "except RuntimeError as e:\n",
    "  print(e)"
   ]
  }
 ],
 "metadata": {
  "accelerator": "GPU",
  "colab": {
   "collapsed_sections": [],
   "name": "A7.ipynb",
   "provenance": []
  },
  "kernelspec": {
   "display_name": "Python 3",
   "language": "python",
   "name": "python3"
  },
  "language_info": {
   "codemirror_mode": {
    "name": "ipython",
    "version": 3
   },
   "file_extension": ".py",
   "mimetype": "text/x-python",
   "name": "python",
   "nbconvert_exporter": "python",
   "pygments_lexer": "ipython3",
   "version": "3.7.7"
  }
 },
 "nbformat": 4,
 "nbformat_minor": 1
}
